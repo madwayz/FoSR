{
 "cells": [
  {
   "cell_type": "code",
   "execution_count": 2,
   "metadata": {
    "is_executing": true
   },
   "outputs": [],
   "source": [
    "import numpy as np\n",
    "\n",
    "B = 100\n",
    "N = 256\n",
    "L = 500\n",
    "n = range(0, L)\n",
    "a4f2 = np.array((1, 0, 1, 0, 0, 1, 0, 0, 1, 1, 1, 1, 0))"
   ]
  },
  {
   "cell_type": "code",
   "execution_count": 6,
   "metadata": {
    "collapsed": false,
    "jupyter": {
     "outputs_hidden": false
    }
   },
   "outputs": [],
   "source": [
    "from src.mathcad_api import MathcadAPI\n",
    "\n",
    "mcad = MathcadAPI()"
   ]
  },
  {
   "cell_type": "code",
   "execution_count": null,
   "metadata": {
    "collapsed": false,
    "jupyter": {
     "outputs_hidden": false
    }
   },
   "outputs": [],
   "source": [
    "\n",
    "mass = np.array(mcad.rbinom(N, 1, 0.5))\n",
    "massdv1n = np.array(n) - np.array(mcad.trunc(list(n), 2))\n",
    "stek_ish = mcad.stack(massdv1n, a4f2, mass)  # TODO: Здесь не 772, а 768 элементов почему-то.\n",
    "len(stek_ish), len(massdv1n), len(a4f2), len(mass)\n",
    "stek_bip = [x * 2 - 1 for x in stek_ish]"
   ]
  },
  {
   "cell_type": "code",
   "execution_count": null,
   "metadata": {
    "collapsed": false,
    "jupyter": {
     "outputs_hidden": false
    }
   },
   "outputs": [],
   "source": [
    "tau = 0.01\n",
    "fd = 800\n",
    "td = 1/fd\n",
    "t = np.arange(0, tau * len(stek_bip) - td/2, td)"
   ]
  },
  {
   "cell_type": "code",
   "execution_count": null,
   "metadata": {
    "collapsed": false,
    "is_executing": true,
    "jupyter": {
     "outputs_hidden": false
    }
   },
   "outputs": [],
   "source": [
    "import math\n",
    "a_t_stek_bip = [stek_bip[math.floor(t_i/tau)] for t_i in t]\n",
    "stek1_t_td = a_t_stek_bip"
   ]
  },
  {
   "cell_type": "code",
   "execution_count": null,
   "metadata": {
    "collapsed": false,
    "is_executing": true,
    "jupyter": {
     "outputs_hidden": false
    }
   },
   "outputs": [],
   "source": [
    "null_4 = 0\n",
    "nf = 53\n",
    "\n",
    "zeros_arr = np.zeros((5, ), dtype=int)\n",
    "\n",
    "stek_kon = mcad.stack(zeros_arr, stek1_t_td)\n"
   ]
  }
 ],
 "metadata": {
  "kernelspec": {
   "display_name": "Python 3 (ipykernel)",
   "language": "python",
   "name": "python3"
  },
  "language_info": {
   "codemirror_mode": {
    "name": "ipython",
    "version": 3
   },
   "file_extension": ".py",
   "mimetype": "text/x-python",
   "name": "python",
   "nbconvert_exporter": "python",
   "pygments_lexer": "ipython3",
   "version": "3.11.6"
  }
 },
 "nbformat": 4,
 "nbformat_minor": 4
}
